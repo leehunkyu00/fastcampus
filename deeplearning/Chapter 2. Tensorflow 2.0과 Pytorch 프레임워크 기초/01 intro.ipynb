{
 "cells": [
  {
   "cell_type": "markdown",
   "metadata": {},
   "source": [
    "* TensorFlow\n",
    "> Numpy Array와 호환이 쉬움  \n",
    "> TensorBoard, TFLite, TPU  \n",
    "> 사용자 층이 두터움  \n",
    "\n",
    "* PyTorch  \n",
    "> 쉽고 빠르고 파이써닉하다.  \n",
    "> 어마어마하게 성장중  "
   ]
  },
  {
   "cell_type": "code",
   "execution_count": null,
   "metadata": {},
   "outputs": [],
   "source": []
  }
 ],
 "metadata": {
  "kernelspec": {
   "display_name": "Python 3",
   "language": "python",
   "name": "python3"
  },
  "language_info": {
   "codemirror_mode": {
    "name": "ipython",
    "version": 3
   },
   "file_extension": ".py",
   "mimetype": "text/x-python",
   "name": "python",
   "nbconvert_exporter": "python",
   "pygments_lexer": "ipython3",
   "version": "3.7.3"
  }
 },
 "nbformat": 4,
 "nbformat_minor": 2
}
